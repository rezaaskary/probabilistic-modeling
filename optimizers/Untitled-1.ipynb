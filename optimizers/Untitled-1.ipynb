{
 "cells": [
  {
   "cell_type": "code",
   "execution_count": 2,
   "metadata": {},
   "outputs": [],
   "source": [
    "import numpy as np"
   ]
  },
  {
   "cell_type": "code",
   "execution_count": 181,
   "metadata": {},
   "outputs": [],
   "source": [
    "def obj(x):\n",
    "    return 10*np.sin(x[0,:])**2 + 10*np.cos(x[2,:])**2 + (x[1,:]- 7)**2 + (x[3,:]- 2)**2"
   ]
  },
  {
   "cell_type": "code",
   "execution_count": 182,
   "metadata": {},
   "outputs": [],
   "source": [
    "def get_best_values(metric_current, positions, metric_best_global, metric_best_locals, i):\n",
    "    best_local_index = metric_current < metric_best_locals\n",
    "    metric_best_locals = metric_current[best_local_index]\n",
    "    local_best_position = positions[:, best_local_index[0, :], i]\n",
    "    min_index = metric_current.argmin(axis=1)\n",
    "    if metric_current[0, min_index] < metric_best_global:\n",
    "        metric_best_global = metric_current[0, min_index]\n",
    "        global_best_position = positions[:, min_index, i]\n",
    "    return  global_best_position, local_best_position"
   ]
  },
  {
   "cell_type": "code",
   "execution_count": 183,
   "metadata": {},
   "outputs": [],
   "source": [
    "def update_continuous_positions(continuous_mask, velocities, inertia_weight,cognitive_weight,num_particles,social_weight,positions,i):\n",
    "    inertial_velocity = inertia_weight * velocities[continuous_mask, :, i:i + 1]\n",
    "    cognitive_velocity = cognitive_weight * velocities[:, :, i:i + 1] * np.random.uniform(low=0, high=1, size=(continuous_mask.sum(), num_particles, 1))\n",
    "    social_velocity = social_weight * velocities[:, :, i:i+1] * np.random.uniform(low=0, high=1, size=(continuous_mask.sum(), num_particles, 1))\n",
    "    velocities[:, :, i + 1:i + 2] = inertial_velocity + cognitive_velocity + social_velocity\n",
    "    positions[:, :, i + 1:i + 2] = positions[:, :, i:i + 1] + velocities[:, :, i:i + 1]\n",
    "    return positions, velocities"
   ]
  },
  {
   "cell_type": "code",
   "execution_count": null,
   "metadata": {},
   "outputs": [],
   "source": [
    "def int2binary(x)->np.ndarray:\n",
    "    binaries = np.zeros((2,200,16))\n",
    "    msk = x>0\n",
    "    i = 0\n",
    "    while np.any(msk):\n",
    "        rem = x%2\n",
    "        binaries[msk,i] = rem[msk]\n",
    "        x = x//2\n",
    "        msk = x>0\n",
    "        i += 1\n",
    "    return binaries\n",
    "\n",
    "def binary2int(x)->np.ndarray:\n",
    "    return (x*np.tile(1<<np.arange(16),reps=(1,200,1))).sum(axis=2).astype(int)\n",
    "\n",
    "\n",
    "def binary_crossover(local, best, current, n_dis):\n",
    "    contribution_global = 0.5\n",
    "    contribution_local = 0.2\n",
    "    m = 16\n",
    "    n_global = np.floor(contribution_global * m).astype(int)\n",
    "    n_local = np.floor(contribution_local * m).astype(int)\n",
    "    new_ = np.zeros((n_dis,200, m),dtype=int)\n",
    "    indexes = np.random.choice(range(m), size=(m,), replace=False)\n",
    "    new_[:,:,indexes[:n_global]] = np.tile(best[:,indexes[:n_global]],reps=(1, 200,1))\n",
    "    new_[:,:,indexes[n_global:n_global + n_local]] = local[:,:,indexes[n_global:n_global + n_local]]\n",
    "    new_[:,:,indexes[n_global + n_local:]] = current[:,:, indexes[n_global + n_local:]]\n",
    "    return binary2int(new_)"
   ]
  },
  {
   "cell_type": "code",
   "execution_count": 288,
   "metadata": {},
   "outputs": [],
   "source": [
    "def saturator(x,lb,ub):\n",
    "    msk_lb, msk_ub = x <= lb, x >= ub\n",
    "    x[msk_lb], x[msk_ub] = lb[msk_lb], ub[msk_ub]\n",
    "    return x"
   ]
  },
  {
   "cell_type": "code",
   "execution_count": null,
   "metadata": {},
   "outputs": [],
   "source": [
    "def get_best_values(positions,continuous_mask, metric_current,local_best_position, metric_best_locals,metric_best_global, i):\n",
    "    best_local_index = metric_current < metric_best_locals\n",
    "    metric_best_locals = metric_current[best_local_index]\n",
    "    local_best_position[:,best_local_index[0, :]] = positions[:, best_local_index[0, :], i]\n",
    "    min_index = metric_current.argmin(axis=1)\n",
    "    if metric_current[0, min_index] < metric_best_global:\n",
    "        metric_best_global = metric_current[0, min_index]\n",
    "        global_best_position = positions[:, min_index, i]\n",
    "    return global_best_position, metric_best_global, metric_best_locals, local_best_position\n",
    "\n",
    "\n",
    "def update_cont_values(n_con, global_best_position, local_best_position, positions,inertia_weight,cognitive_weight, social_weight, dim, num_particles, velocities,continuous_mask,i):\n",
    "    inertial_velocity = inertia_weight * velocities[:,:, i:i + 1]\n",
    "    cognitive_velocity = cognitive_weight * np.random.uniform(low=0, high=1, size=(n_con, num_particles, 1)) * (global_best_position[continuous_mask,:] - positions[continuous_mask, :, i:i + 1])\n",
    "    social_velocity = social_weight * np.random.uniform(low=0, high=1, size=(n_con, num_particles, 1)) * (local_best_position[continuous_mask,:] - positions[continuous_mask, :, i:i + 1])\n",
    "    velocities[:, :, i + 1:i + 2] = inertial_velocity + cognitive_velocity + social_velocity\n",
    "    positions[continuous_mask, :, i + 1:i + 2] = positions[continuous_mask, :, i:i + 1] + velocities[:, :, i:i + 1]\n",
    "    return positions\n",
    "\n",
    "def update_disc_values(n_dis, global_best_position, local_best_position, positions, discrete_mask):\n",
    "    binary_current = int2binary(positions[discrete_mask, :])\n",
    "    binray_global = int2binary(current_position)  # to binary\n",
    "    binary_local =  int2binary(local_best_position[discrete_mask,:])  # to binary\n",
    "    \n",
    "\n",
    "    return\n",
    "\n",
    "\n",
    "\n",
    "def opt(fcn, num_particles, max_iter, inertia_weight,\n",
    "        cognitive_weight, social_weight, V_max, lb, ub, int_idx):\n",
    "    \n",
    "    dim = len(lb)\n",
    "    continuous_mask = np.ones((dim,), dtype=bool)\n",
    "    continuous_mask[int_idx] = False\n",
    "    discrete_mask = ~continuous_mask\n",
    "    n_dis = discrete_mask.sum()\n",
    "    n_con = discrete_mask.sum()\n",
    "    lb = np.tile(A=np.array(lb).reshape((-1, 1)), reps=(1, num_particles))\n",
    "    ub = np.tile(A=np.array(ub).reshape((-1, 1)), reps=(1, num_particles))\n",
    "\n",
    "    metric_best_locals = np.ones((num_particles,)) * np.inf  # (particles)\n",
    "    param_best_locals = np.ones((dim, num_particles)) * np.inf  # (dim x particles)\n",
    "\n",
    "    metric_track = np.ones((num_particles, max_iter)) * np.inf\n",
    "    positions = np.zeros((dim, num_particles, max_iter))    \n",
    "    positions[:, :, 0:1] = (np.random.uniform(low=0, high=1, size=(dim, num_particles)) * (\n",
    "                ub - lb) + lb)[:, :, np.newaxis]\n",
    "    \n",
    "    positions[discrete_mask, :, 0:1] = np.round(positions[discrete_mask, :, 0:1])\n",
    "    positions = np.minimum(np.maximum(positions[:, :, 0], lb), ub)[:, :, np.newaxis]\n",
    "    velocities = np.zeros((n_con,num_particles))\n",
    "    \n",
    "    metric_current = np.ones((1, num_particles)) * np.inf\n",
    "    # best obtained metric\n",
    "    metric_best_global = np.inf\n",
    "\n",
    "    # initializing best values of parameters (positions)\n",
    "    global_best_position = np.tile(A=positions[:, 0, 0].reshape((-1, 1)), reps=(1, num_particles))\n",
    "    local_best_position = positions[:, :, 0]\n",
    "\n",
    "    for i in range(max_iter - 1):\n",
    "        metric_current = fcn(positions[:,:,i])\n",
    "        global_best_position, metric_best_global, metric_best_locals, local_best_position = get_best_values(positions,continuous_mask, metric_current,local_best_position, metric_best_locals,metric_best_global, i)\n",
    "        positions = update_cont_values(n_con, global_best_position, local_best_position, positions,inertia_weight,cognitive_weight, social_weight, dim, num_particles, velocities,continuous_mask,i)\n",
    "\n",
    "        \n",
    "\n",
    "\n"
   ]
  },
  {
   "cell_type": "code",
   "execution_count": 214,
   "metadata": {},
   "outputs": [],
   "source": [
    "current  = 2\n",
    "best = 45\n",
    "local = 33\n",
    "def bit2int(m):\n",
    "    return (np.flip(1<<np.arange(16))*m).sum()\n",
    "\n",
    "def int2bit(q):\n",
    "    return np.fromiter(np.binary_repr(q,width=16), dtype=int)\n",
    "\n",
    "def new_Crossover(local,best,current):\n",
    "    new = np.ones((16,))\n",
    "    \n",
    "    \n",
    "    return a, b\n",
    "\n",
    "s1 = int2bit(current)\n",
    "s2 = int2bit(best)\n",
    "s3 = int2bit(local)"
   ]
  },
  {
   "cell_type": "code",
   "execution_count": 289,
   "metadata": {},
   "outputs": [],
   "source": []
  },
  {
   "cell_type": "code",
   "execution_count": 232,
   "metadata": {},
   "outputs": [
    {
     "ename": "TypeError",
     "evalue": "Expected an input array of unsigned byte data type",
     "output_type": "error",
     "traceback": [
      "\u001b[1;31m---------------------------------------------------------------------------\u001b[0m",
      "\u001b[1;31mTypeError\u001b[0m                                 Traceback (most recent call last)",
      "\u001b[1;32md:\\OPT-NON_jax\\optimizers\\Untitled-1.ipynb Cell 9\u001b[0m in \u001b[0;36m<cell line: 1>\u001b[1;34m()\u001b[0m\n\u001b[1;32m----> <a href='vscode-notebook-cell:/d%3A/OPT-NON_jax/optimizers/Untitled-1.ipynb#Y101sZmlsZQ%3D%3D?line=0'>1</a>\u001b[0m np\u001b[39m.\u001b[39;49munpackbits(np\u001b[39m.\u001b[39;49marray([\u001b[39m2\u001b[39;49m,\u001b[39m3\u001b[39;49m,\u001b[39m6\u001b[39;49m]))\u001b[39m.\u001b[39mreshape(\u001b[39m-\u001b[39m\u001b[39m1\u001b[39m, \u001b[39m8\u001b[39m)\n",
      "File \u001b[1;32m<__array_function__ internals>:180\u001b[0m, in \u001b[0;36munpackbits\u001b[1;34m(*args, **kwargs)\u001b[0m\n",
      "\u001b[1;31mTypeError\u001b[0m: Expected an input array of unsigned byte data type"
     ]
    }
   ],
   "source": [
    "np.unpackbits(np.array([2,3,6], dtype=np.uint8)).reshape(-1, 8)\n"
   ]
  },
  {
   "cell_type": "code",
   "execution_count": 44,
   "metadata": {},
   "outputs": [],
   "source": [
    "d = np.array([1,2,3,4,5])\n",
    "m = 8\n",
    "def conv_(d):\n",
    "    return (((d[:,None] & ())) > 0).astype(int)"
   ]
  },
  {
   "cell_type": "code",
   "execution_count": 266,
   "metadata": {},
   "outputs": [
    {
     "data": {
      "text/plain": [
       "(4, 20, 16)"
      ]
     },
     "execution_count": 266,
     "metadata": {},
     "output_type": "execute_result"
    }
   ],
   "source": [
    "\n",
    "f1"
   ]
  },
  {
   "cell_type": "code",
   "execution_count": 242,
   "metadata": {},
   "outputs": [],
   "source": [
    "d = np.array([1,2,3,4,5])"
   ]
  },
  {
   "cell_type": "code",
   "execution_count": 244,
   "metadata": {},
   "outputs": [
    {
     "data": {
      "text/plain": [
       "array([1, 0, 1, 0, 1], dtype=int32)"
      ]
     },
     "execution_count": 244,
     "metadata": {},
     "output_type": "execute_result"
    }
   ],
   "source": [
    "d%2"
   ]
  },
  {
   "cell_type": "code",
   "execution_count": 287,
   "metadata": {},
   "outputs": [],
   "source": []
  },
  {
   "cell_type": "code",
   "execution_count": 282,
   "metadata": {},
   "outputs": [
    {
     "data": {
      "text/plain": [
       "array([[13,  4,  6, 10,  8,  3,  5, 13, 13,  0, 14, 10,  4,  9,  7,  4,\n",
       "        11,  5, 13,  6],\n",
       "       [ 5,  4, 13, 11,  5, 11,  9, 11, 11,  9, 10,  6,  7, 12, 11,  1,\n",
       "         2, 14,  9,  0],\n",
       "       [ 1, 13,  5,  5,  8, 12,  4,  3,  8, 10,  9, 14,  8, 14, 14, 11,\n",
       "         0,  0, 13,  6],\n",
       "       [ 9,  1,  0,  6,  2,  3, 11,  0, 13, 13,  2,  8, 11,  2,  2,  4,\n",
       "        12,  6, 10,  3]])"
      ]
     },
     "execution_count": 282,
     "metadata": {},
     "output_type": "execute_result"
    }
   ],
   "source": [
    "x= np.random.randint(low=0,high=15,size=(4,20))\n",
    "x"
   ]
  },
  {
   "cell_type": "code",
   "execution_count": 286,
   "metadata": {},
   "outputs": [
    {
     "data": {
      "text/plain": [
       "array([[13,  4,  6, 10,  8,  3,  5, 13, 13,  0, 14, 10,  4,  9,  7,  4,\n",
       "        11,  5, 13,  6],\n",
       "       [ 5,  4, 13, 11,  5, 11,  9, 11, 11,  9, 10,  6,  7, 12, 11,  1,\n",
       "         2, 14,  9,  0],\n",
       "       [ 1, 13,  5,  5,  8, 12,  4,  3,  8, 10,  9, 14,  8, 14, 14, 11,\n",
       "         0,  0, 13,  6],\n",
       "       [ 9,  1,  0,  6,  2,  3, 11,  0, 13, 13,  2,  8, 11,  2,  2,  4,\n",
       "        12,  6, 10,  3]])"
      ]
     },
     "execution_count": 286,
     "metadata": {},
     "output_type": "execute_result"
    }
   ],
   "source": [
    "rr = int2binary(x)\n"
   ]
  },
  {
   "cell_type": "code",
   "execution_count": 281,
   "metadata": {},
   "outputs": [
    {
     "data": {
      "text/plain": [
       "array([[ 1., 11.,  6.,  2.,  8.,  5.,  5.,  7., 12., 12., 14., 10., 12.,\n",
       "         5., 10.,  1.,  5.,  4.,  9.,  3.],\n",
       "       [10., 13.,  7.,  6., 12.,  3., 13.,  2.,  0., 14.,  9.,  7.,  4.,\n",
       "         6., 12.,  2.,  2.,  1.,  0.,  4.],\n",
       "       [ 7.,  3., 11., 11., 10.,  1., 12.,  0., 13.,  0.,  0.,  2.,  0.,\n",
       "         4.,  5.,  8., 13.,  3., 14., 12.],\n",
       "       [ 0.,  9.,  0.,  4., 13.,  4.,  6.,  9., 13.,  4.,  6.,  8.,  1.,\n",
       "         1.,  1.,  5.,  1., 13., 14.,  2.]])"
      ]
     },
     "execution_count": 281,
     "metadata": {},
     "output_type": "execute_result"
    }
   ],
   "source": []
  },
  {
   "cell_type": "code",
   "execution_count": 274,
   "metadata": {},
   "outputs": [
    {
     "data": {
      "text/plain": [
       "array([    1,     2,     4,     8,    16,    32,    64,   128,   256,\n",
       "         512,  1024,  2048,  4096,  8192, 16384, 32768], dtype=int32)"
      ]
     },
     "execution_count": 274,
     "metadata": {},
     "output_type": "execute_result"
    }
   ],
   "source": [
    "f1[0,1,:]"
   ]
  },
  {
   "cell_type": "code",
   "execution_count": 251,
   "metadata": {},
   "outputs": [],
   "source": [
    "binaries = np.zeros((3,4,16))\n",
    "x = np.ones((3,4))\n",
    "msk = x<0\n",
    "msk[1,1] = True\n",
    "\n"
   ]
  },
  {
   "cell_type": "code",
   "execution_count": 252,
   "metadata": {},
   "outputs": [
    {
     "data": {
      "text/plain": [
       "array([[False, False, False, False],\n",
       "       [False,  True, False, False],\n",
       "       [False, False, False, False]])"
      ]
     },
     "execution_count": 252,
     "metadata": {},
     "output_type": "execute_result"
    }
   ],
   "source": []
  },
  {
   "cell_type": "code",
   "execution_count": 254,
   "metadata": {},
   "outputs": [
    {
     "data": {
      "text/plain": [
       "array([[0., 0., 0., 0.],\n",
       "       [0., 1., 0., 0.],\n",
       "       [0., 0., 0., 0.]])"
      ]
     },
     "execution_count": 254,
     "metadata": {},
     "output_type": "execute_result"
    }
   ],
   "source": [
    "binaries[msk,0]=1\n",
    "binaries[:,:,0]"
   ]
  },
  {
   "cell_type": "code",
   "execution_count": 192,
   "metadata": {},
   "outputs": [
    {
     "data": {
      "text/plain": [
       "array([0, 2, 0, 2, 0, 2, 1, 1, 0, 1, 2, 2, 1, 1, 2, 0])"
      ]
     },
     "execution_count": 192,
     "metadata": {},
     "output_type": "execute_result"
    }
   ],
   "source": [
    "np.random.randint(low=0,high=16,size=(16,))\n",
    "np.random.choice([0,1,2],size=(16,),replace=True)\n"
   ]
  },
  {
   "cell_type": "code",
   "execution_count": 209,
   "metadata": {},
   "outputs": [],
   "source": [
    "indexes = np.random.choice(range(16),size=(16,),replace=False)\n"
   ]
  },
  {
   "cell_type": "code",
   "execution_count": 213,
   "metadata": {},
   "outputs": [
    {
     "data": {
      "text/plain": [
       "(array([15, 12,  3,  9, 14,  7,  1,  0]),\n",
       " array([ 4, 13, 11]),\n",
       " array([ 2, 10,  6,  8,  5]))"
      ]
     },
     "execution_count": 213,
     "metadata": {},
     "output_type": "execute_result"
    }
   ],
   "source": [
    "indexes[:n_g], indexes[n_g:n_g+n_l], indexes[n_g+n_l:]"
   ]
  },
  {
   "cell_type": "code",
   "execution_count": 212,
   "metadata": {},
   "outputs": [
    {
     "name": "stdout",
     "output_type": "stream",
     "text": [
      "[8, 3, 5]\n"
     ]
    }
   ],
   "source": [
    "\n",
    "\n"
   ]
  },
  {
   "cell_type": "code",
   "execution_count": 170,
   "metadata": {},
   "outputs": [],
   "source": [
    "import random\n",
    "def crossover(a, b):\n",
    "    n = 16\n",
    "    crossover_point = random.randint(1, n - 1)\n",
    "    # a[crossover_point:], b[crossover_point:] = b[crossover_point:], a[crossover_point:]\n",
    "    a[::2],b[::2] = b[::2],a[::2]\n",
    "    return a, b\n",
    "#--------------------------------------------------------------------------------\n",
    "def crossover_every_n(a,b,n):\n",
    "    a[::n],b[::n] = b[::n],a[::n]\n",
    "    return a, b"
   ]
  },
  {
   "cell_type": "code",
   "execution_count": 171,
   "metadata": {},
   "outputs": [],
   "source": [
    "def bit2int(m):\n",
    "    return (np.flip(1<<np.arange(16))*m).sum()\n",
    "def int2bit(q):\n",
    "    return np.fromiter(np.binary_repr(q,width=16), dtype=int)"
   ]
  },
  {
   "cell_type": "code",
   "execution_count": 174,
   "metadata": {},
   "outputs": [
    {
     "data": {
      "text/plain": [
       "(array([0, 0, 0, 0, 0, 0, 0, 0, 1, 0, 0, 1, 0, 1, 1, 0]),\n",
       " array([0, 0, 0, 0, 0, 0, 0, 0, 0, 0, 0, 1, 0, 0, 0, 1]))"
      ]
     },
     "execution_count": 174,
     "metadata": {},
     "output_type": "execute_result"
    }
   ],
   "source": [
    "r1 = 150\n",
    "r2 = 17\n",
    "s1 = int2bit(r1)\n",
    "s2 = int2bit(r2)\n",
    "s1,s2\n"
   ]
  },
  {
   "cell_type": "code",
   "execution_count": 176,
   "metadata": {},
   "outputs": [],
   "source": [
    "s1_1, s2_2 = crossover_every_n(s1, s2,3)"
   ]
  },
  {
   "cell_type": "code",
   "execution_count": 180,
   "metadata": {},
   "outputs": [],
   "source": [
    "def obj(x):\n",
    "    return x[0,:]**2 + (1-x[1,:]**2)"
   ]
  },
  {
   "cell_type": "code",
   "execution_count": 178,
   "metadata": {},
   "outputs": [
    {
     "data": {
      "text/plain": [
       "array([0, 0, 0, 0, 0, 0, 0, 0, 0, 0, 0, 1, 0, 0, 0, 1])"
      ]
     },
     "execution_count": 178,
     "metadata": {},
     "output_type": "execute_result"
    }
   ],
   "source": [
    "\n",
    "for i in range(200):"
   ]
  },
  {
   "cell_type": "code",
   "execution_count": 179,
   "metadata": {},
   "outputs": [
    {
     "data": {
      "text/plain": [
       "(151, 17)"
      ]
     },
     "execution_count": 179,
     "metadata": {},
     "output_type": "execute_result"
    }
   ],
   "source": [
    "bit2int(s1_1),bit2int(s2_2)"
   ]
  },
  {
   "cell_type": "code",
   "execution_count": 161,
   "metadata": {},
   "outputs": [],
   "source": [
    "cc = 1<<np.arange(16)"
   ]
  },
  {
   "cell_type": "code",
   "execution_count": 162,
   "metadata": {},
   "outputs": [
    {
     "data": {
      "text/plain": [
       "array([    1,     4,    16,    64,   256,  1024,  4096, 16384],\n",
       "      dtype=int32)"
      ]
     },
     "execution_count": 162,
     "metadata": {},
     "output_type": "execute_result"
    }
   ],
   "source": [
    "cc[::2]"
   ]
  },
  {
   "cell_type": "code",
   "execution_count": null,
   "metadata": {},
   "outputs": [],
   "source": [
    "\n"
   ]
  }
 ],
 "metadata": {
  "kernelspec": {
   "display_name": "Python 3",
   "language": "python",
   "name": "python3"
  },
  "language_info": {
   "codemirror_mode": {
    "name": "ipython",
    "version": 3
   },
   "file_extension": ".py",
   "mimetype": "text/x-python",
   "name": "python",
   "nbconvert_exporter": "python",
   "pygments_lexer": "ipython3",
   "version": "3.10.7"
  },
  "orig_nbformat": 4
 },
 "nbformat": 4,
 "nbformat_minor": 2
}
